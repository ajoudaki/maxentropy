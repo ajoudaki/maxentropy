{
 "cells": [
  {
   "cell_type": "code",
   "execution_count": 1,
   "id": "3f6c10d0",
   "metadata": {},
   "outputs": [],
   "source": [
    "\n",
    "import torch\n",
    "import torch.nn as nn\n",
    "import torch.nn.functional as F\n",
    "import torch.optim as optim\n",
    "import torch.utils.data as data\n",
    "\n",
    "import torchvision.transforms as transforms\n",
    "import torchvision.datasets as datasets\n",
    "\n",
    "from sklearn import metrics\n",
    "from sklearn import decomposition\n",
    "from sklearn import manifold\n",
    "import tqdm as tqdm\n",
    "\n",
    "import matplotlib.pyplot as plt\n",
    "import seaborn as sns\n",
    "import numpy as np\n",
    "import pandas as pd\n",
    "\n",
    "\n",
    "import copy\n",
    "import random\n",
    "import time\n",
    "\n",
    "\n",
    "def calculate_accuracy(y_pred, y):\n",
    "    top_pred = y_pred.argmax(1, keepdim=True)\n",
    "    correct = top_pred.eq(y.view_as(top_pred)).sum()\n",
    "    acc = correct.float() / y.shape[0]\n",
    "    return acc\n",
    "\n",
    "def train(model, iterator, optimizer, criterion, device):\n",
    "\n",
    "    epoch_loss = 0\n",
    "    epoch_acc = 0\n",
    "\n",
    "    model.train()\n",
    "\n",
    "    for (x, y) in tqdm.tqdm(iterator, desc=\"Training\", leave=False):\n",
    "\n",
    "        x = x.to(device)\n",
    "        y = y.type(torch.LongTensor)\n",
    "        y = y.to(device)\n",
    "\n",
    "        optimizer.zero_grad()\n",
    "\n",
    "        y_pred = model(x)\n",
    "\n",
    "        loss = criterion(y_pred, y)\n",
    "\n",
    "        acc = calculate_accuracy(y_pred, y)\n",
    "\n",
    "        loss.backward()\n",
    "\n",
    "        optimizer.step()\n",
    "\n",
    "        epoch_loss += loss.item()\n",
    "        epoch_acc += acc.item()\n",
    "\n",
    "    return epoch_loss / len(iterator), epoch_acc / len(iterator)\n",
    "\n",
    "\n",
    "def evaluate(model, iterator, criterion, device):\n",
    "\n",
    "    epoch_loss = 0\n",
    "    epoch_acc = 0\n",
    "\n",
    "    model.eval()\n",
    "    num_classes = dict()\n",
    "\n",
    "    with torch.no_grad():\n",
    "\n",
    "        for (x, y) in tqdm.tqdm(iterator, desc=\"Evaluating\", leave=False):\n",
    "\n",
    "            x = x.to(device)\n",
    "            y = y.type(torch.LongTensor)\n",
    "            y = y.to(device)\n",
    "\n",
    "\n",
    "            y_pred = model(x)\n",
    "            top_pred = y_pred.argmax(1).cpu().data.numpy()\n",
    "            for c in top_pred:\n",
    "                if c not in num_classes:\n",
    "                    num_classes[c] = 1\n",
    "                else:\n",
    "                    num_classes[c] += 1\n",
    "\n",
    "            loss = criterion(y_pred, y)\n",
    "\n",
    "            acc = calculate_accuracy(y_pred, y)\n",
    "\n",
    "            epoch_loss += loss.item()\n",
    "            epoch_acc += acc.item()\n",
    "\n",
    "    return epoch_loss / len(iterator), epoch_acc / len(iterator), num_classes\n",
    "\n",
    "def epoch_time(start_time, end_time):\n",
    "    elapsed_time = end_time - start_time\n",
    "    elapsed_mins = int(elapsed_time / 60)\n",
    "    elapsed_secs = int(elapsed_time - (elapsed_mins * 60))\n",
    "    return elapsed_mins, elapsed_secs\n",
    "\n",
    "def plot_images(images):\n",
    "\n",
    "    n_images = len(images)\n",
    "\n",
    "    rows = int(np.sqrt(n_images))\n",
    "    cols = int(np.sqrt(n_images))\n",
    "\n",
    "    fig = plt.figure()\n",
    "    for i in range(rows*cols):\n",
    "        ax = fig.add_subplot(rows, cols, i+1)\n",
    "        ax.imshow(images[i].view(28, 28).cpu().numpy(), cmap='bone')\n",
    "        ax.axis('off')\n",
    "\n",
    "    \n",
    "def show_layers(Hidden, Num=None,subplot=True,title=False,save_path=None):\n",
    "    if not Num:\n",
    "        Num = len(Hidden)\n",
    "    inds = np.linspace(0,len(Hidden)-1,Num).astype(np.int32)\n",
    "    Hidden = [Hidden[i] for i in inds]\n",
    "    if subplot:\n",
    "        fig = plt.figure(figsize=(2*Num,2))\n",
    "    for Hi,(l,H) in enumerate(zip(inds,Hidden)):\n",
    "        while H.shape[0]==1:\n",
    "            H = H[0]\n",
    "        # H = H.data.numpy()\n",
    "        if subplot:\n",
    "            ax = fig.add_subplot(1,Num,Hi+1)\n",
    "        else:\n",
    "            plt.clf()\n",
    "            ax = plt.gca()\n",
    "        \n",
    "        ax.scatter(H[0],H[1],2)\n",
    "        if title:\n",
    "            ax.set_title(f'Layer = {Hi+1}')\n",
    "                      "
   ]
  },
  {
   "cell_type": "code",
   "execution_count": 38,
   "id": "703e45ce-3b4a-4dc5-871e-536215b61d9e",
   "metadata": {},
   "outputs": [],
   "source": [
    "class Activ(torch.nn.Module):\n",
    "    def __init__(self, n_feature, activ):\n",
    "        super().__init__()\n",
    "        self.activ = activ\n",
    "        self.lin  = torch.nn.Parameter(torch.randn((6,n_feature)))\n",
    "\n",
    "    def forward(self, h):\n",
    "        # if self.activ=='relu':\n",
    "        #     return F.relu(h)\n",
    "        # if self.actv=='tanh':\n",
    "        #     return torch.tanh(h)\n",
    "        h2 = 0\n",
    "        if 'relu' in self.activ:\n",
    "            h2 += F.relu(h*self.lin[1]-self.lin[0]) \n",
    "        if 'tanh' in self.activ:\n",
    "            h2 += torch.tanh(h*self.lin[3]-self.lin[2]) \n",
    "        return h2\n",
    "        # h2 = .0 * h\n",
    "        # h2 += F.relu(self.lin[0]+self.lin[1]*h)*self.lin[2] \n",
    "        # h2 += torch.tanh(h*self.lin[4])*self.lin[3]\n",
    "        # return h2\n",
    "    \n",
    "\n",
    "class MyMLP(nn.Module):\n",
    "    def __init__(self, D, L, res, activ, norm, D_in, D_out, A, H, device):\n",
    "        super().__init__()\n",
    "        # assert(activ in ['lin', 'relu','tanh'])\n",
    "        assert(norm in ['', 'LN','BN1','BN2'])\n",
    "        self.A = A\n",
    "        self.H = H\n",
    "        self.norm = norm\n",
    "        self.activ = activ\n",
    "        self.fcs = [nn.Linear(D, D).to(device) for l in range(L)]\n",
    "        self.fcs[0] = nn.Linear(D_in,D).to(device)\n",
    "        self.fcs[-1] = nn.Linear(D,D_out).to(device)\n",
    "        self.acts = [Activ(D,activ).to(device) for l in range(L+1)]\n",
    "        self.acts[0] = Activ(D_in,activ).to(device)\n",
    "        self.attk = [nn.Linear(D, A).to(device) for l in range(L)]\n",
    "        self.attk[0] = nn.Linear(D_in,A).to(device)\n",
    "        self.attv = [nn.Linear(A, D).to(device) for l in range(L)]\n",
    "        self.attv[-1] = nn.Linear(A, D_out).to(device)\n",
    "        self.lin  = [(nn.Linear(D, D).to(device),nn.Linear(D, D).to(device)) for l in range(L)]\n",
    "        self.lin[-1] = (nn.Linear(D_out, D_out).to(device),nn.Linear(D_out, D_out).to(device))\n",
    "        \n",
    "        for li,fc in enumerate(self.fcs):\n",
    "            self.add_module(\"attk_\"+str(li), self.attk[li])\n",
    "            self.add_module(\"attv_\"+str(li), self.attv[li])\n",
    "            self.add_module(\"lin0_\"+str(li), self.lin[li][0])\n",
    "            self.add_module(\"lin1_\"+str(li), self.lin[li][1])\n",
    "            if li==len(self.fcs)-1:\n",
    "                self.add_module(\"fc_\"+str(li), fc)\n",
    "            self.add_module(\"act_\"+str(li), self.acts[li])\n",
    "        self.L = L\n",
    "        self.D = D\n",
    "        self.res = res\n",
    "        self.sm = nn.Softmax(dim=2)\n",
    "    \n",
    "    def normalize(self, h):\n",
    "        if self.norm=='LN':\n",
    "            # h = h - h.mean(1,keepdim=True)\n",
    "            h = h / torch.norm(h,dim=1,keepdim=True)\n",
    "        if self.norm=='BN2':\n",
    "            h = h - h.mean(0,keepdim=True)\n",
    "            h = h / torch.norm(h,dim=0,keepdim=True)\n",
    "        if self.norm=='BN1':\n",
    "            h = h / torch.norm(h,dim=0,keepdim=True)\n",
    "        return h \n",
    "        \n",
    "    def layer_update(self, l,h):\n",
    "        h2 = h\n",
    "        if l>0:\n",
    "            h2 = self.normalize(h2)\n",
    "        # h2 = self.acts[l](h2)\n",
    "        A = self.attk[l](h2)\n",
    "        A = A.view(A.shape[0],self.H,-1)\n",
    "        A = self.sm(A)\n",
    "        A = A.view(A.shape[0],-1)\n",
    "        V = self.attv[l](A) / np.sqrt(self.A)\n",
    "        V = self.lin[l][0](V)\n",
    "        V = torch.tanh(V)\n",
    "        V = self.lin[l][1](V)\n",
    "        h2 = self.fcs[l](h2)\n",
    "        h2 += V\n",
    "        \n",
    "        if l==self.L-1:\n",
    "            h2 = torch.softmax(h2,1)\n",
    "        return h2\n",
    "\n",
    "\n",
    "    def full_forward(self, h):\n",
    "        h = h.view(h.shape[0],-1) # flatten images to vectors\n",
    "        H = [h.cpu().data.numpy()]\n",
    "        for l in range(self.L):\n",
    "            h = self.layer_update(l,h)\n",
    "            H.append(h.cpu().data.numpy())\n",
    "        return H\n",
    "    \n",
    "    def forward(self, h):\n",
    "        h = h.view(h.shape[0],-1) #  # flatten images to vectors\n",
    "        for l in range(self.L):\n",
    "            h = self.layer_update(l,h)\n",
    "        return h"
   ]
  },
  {
   "cell_type": "code",
   "execution_count": 40,
   "id": "77c2ef65",
   "metadata": {
    "tags": []
   },
   "outputs": [
    {
     "name": "stderr",
     "output_type": "stream",
     "text": [
      "                                                                                                                               \r"
     ]
    },
    {
     "name": "stdout",
     "output_type": "stream",
     "text": [
      "Epoch: 2\tTrain Loss: 2.08963\tTrain Acc: 0.3674712276367275\tVal. Loss: 2.07435\t Val. Acc: 0.38202\n"
     ]
    },
    {
     "name": "stderr",
     "output_type": "stream",
     "text": [
      "                                                                                                                               \r"
     ]
    },
    {
     "name": "stdout",
     "output_type": "stream",
     "text": [
      "Epoch: 3\tTrain Loss: 2.05837\tTrain Acc: 0.39801790281329924\tVal. Loss: 2.04892\t Val. Acc: 0.40951\n"
     ]
    },
    {
     "name": "stderr",
     "output_type": "stream",
     "text": [
      "                                                                                                                               \r"
     ]
    },
    {
     "name": "stdout",
     "output_type": "stream",
     "text": [
      "Epoch: 4\tTrain Loss: 2.03222\tTrain Acc: 0.4248401534831737\tVal. Loss: 2.03462\t Val. Acc: 0.42128\n"
     ]
    },
    {
     "name": "stderr",
     "output_type": "stream",
     "text": [
      "                                                                                                                               \r"
     ]
    },
    {
     "name": "stdout",
     "output_type": "stream",
     "text": [
      "Epoch: 5\tTrain Loss: 2.01083\tTrain Acc: 0.44804187984112887\tVal. Loss: 2.01123\t Val. Acc: 0.44343\n"
     ]
    },
    {
     "name": "stderr",
     "output_type": "stream",
     "text": [
      "                                                                                                                               \r"
     ]
    },
    {
     "name": "stdout",
     "output_type": "stream",
     "text": [
      "Epoch: 6\tTrain Loss: 1.99439\tTrain Acc: 0.46482177113023254\tVal. Loss: 2.00983\t Val. Acc: 0.44432\n"
     ]
    },
    {
     "name": "stderr",
     "output_type": "stream",
     "text": [
      "                                                                                                                               \r"
     ]
    },
    {
     "name": "stdout",
     "output_type": "stream",
     "text": [
      "Epoch: 7\tTrain Loss: 1.98226\tTrain Acc: 0.4757792519029144\tVal. Loss: 2.00071\t Val. Acc: 0.45570\n"
     ]
    },
    {
     "name": "stderr",
     "output_type": "stream",
     "text": [
      "                                                                                                                               \r"
     ]
    },
    {
     "name": "stdout",
     "output_type": "stream",
     "text": [
      "Epoch: 8\tTrain Loss: 1.96914\tTrain Acc: 0.4906369885215369\tVal. Loss: 1.99519\t Val. Acc: 0.46015\n"
     ]
    },
    {
     "name": "stderr",
     "output_type": "stream",
     "text": [
      "                                                                                                                               \r"
     ]
    },
    {
     "name": "stdout",
     "output_type": "stream",
     "text": [
      "Epoch: 9\tTrain Loss: 1.95486\tTrain Acc: 0.5050711317745316\tVal. Loss: 1.99047\t Val. Acc: 0.46351\n"
     ]
    },
    {
     "name": "stderr",
     "output_type": "stream",
     "text": [
      "                                                                                                                               \r"
     ]
    },
    {
     "name": "stdout",
     "output_type": "stream",
     "text": [
      "Epoch: 10\tTrain Loss: 1.94317\tTrain Acc: 0.5170915921020995\tVal. Loss: 1.98075\t Val. Acc: 0.47449\n"
     ]
    },
    {
     "name": "stderr",
     "output_type": "stream",
     "text": [
      "                                                                                                                               \r"
     ]
    },
    {
     "name": "stdout",
     "output_type": "stream",
     "text": [
      "Epoch: 11\tTrain Loss: 1.93060\tTrain Acc: 0.5302469629765777\tVal. Loss: 1.98167\t Val. Acc: 0.47498\n"
     ]
    },
    {
     "name": "stderr",
     "output_type": "stream",
     "text": [
      "                                                                                                                               \r"
     ]
    },
    {
     "name": "stdout",
     "output_type": "stream",
     "text": [
      "Epoch: 12\tTrain Loss: 1.92120\tTrain Acc: 0.5389146419132457\tVal. Loss: 1.97552\t Val. Acc: 0.48151\n"
     ]
    },
    {
     "name": "stderr",
     "output_type": "stream",
     "text": [
      "                                                                                                                               \r"
     ]
    },
    {
     "name": "stdout",
     "output_type": "stream",
     "text": [
      "Epoch: 13\tTrain Loss: 1.91070\tTrain Acc: 0.5506273977591863\tVal. Loss: 1.97313\t Val. Acc: 0.48230\n"
     ]
    },
    {
     "name": "stderr",
     "output_type": "stream",
     "text": [
      "                                                                                                                               \r"
     ]
    },
    {
     "name": "stdout",
     "output_type": "stream",
     "text": [
      "Epoch: 14\tTrain Loss: 1.90267\tTrain Acc: 0.5587555945986677\tVal. Loss: 1.97676\t Val. Acc: 0.47903\n"
     ]
    },
    {
     "name": "stderr",
     "output_type": "stream",
     "text": [
      "                                                                                                                               \r"
     ]
    },
    {
     "name": "stdout",
     "output_type": "stream",
     "text": [
      "Epoch: 15\tTrain Loss: 1.89491\tTrain Acc: 0.5666919757643014\tVal. Loss: 1.97346\t Val. Acc: 0.48170\n"
     ]
    },
    {
     "name": "stderr",
     "output_type": "stream",
     "text": [
      "                                                                                                                               \r"
     ]
    },
    {
     "name": "stdout",
     "output_type": "stream",
     "text": [
      "Epoch: 16\tTrain Loss: 1.88521\tTrain Acc: 0.5763507034162731\tVal. Loss: 1.97231\t Val. Acc: 0.48438\n"
     ]
    },
    {
     "name": "stderr",
     "output_type": "stream",
     "text": [
      "                                                                                                                               \r"
     ]
    },
    {
     "name": "stdout",
     "output_type": "stream",
     "text": [
      "Epoch: 17\tTrain Loss: 1.88026\tTrain Acc: 0.5814378197540713\tVal. Loss: 1.97389\t Val. Acc: 0.48250\n"
     ]
    },
    {
     "name": "stderr",
     "output_type": "stream",
     "text": [
      "                                                                                                                               \r"
     ]
    },
    {
     "name": "stdout",
     "output_type": "stream",
     "text": [
      "Epoch: 18\tTrain Loss: 1.87397\tTrain Acc: 0.5866168478260869\tVal. Loss: 1.97011\t Val. Acc: 0.48764\n"
     ]
    },
    {
     "name": "stderr",
     "output_type": "stream",
     "text": [
      "                                                                                                                               \r"
     ]
    },
    {
     "name": "stdout",
     "output_type": "stream",
     "text": [
      "Epoch: 19\tTrain Loss: 1.86779\tTrain Acc: 0.5938419117342175\tVal. Loss: 1.96830\t Val. Acc: 0.48794\n"
     ]
    },
    {
     "name": "stderr",
     "output_type": "stream",
     "text": [
      "                                                                                                                               \r"
     ]
    },
    {
     "name": "stdout",
     "output_type": "stream",
     "text": [
      "Epoch: 20\tTrain Loss: 1.86072\tTrain Acc: 0.6012547953659312\tVal. Loss: 1.97382\t Val. Acc: 0.48428\n"
     ]
    },
    {
     "name": "stderr",
     "output_type": "stream",
     "text": [
      "                                                                                                                               \r"
     ]
    },
    {
     "name": "stdout",
     "output_type": "stream",
     "text": [
      "Epoch: 21\tTrain Loss: 1.85610\tTrain Acc: 0.6055346867617439\tVal. Loss: 1.96594\t Val. Acc: 0.49308\n"
     ]
    },
    {
     "name": "stderr",
     "output_type": "stream",
     "text": [
      "                                                                                                                               \r"
     ]
    },
    {
     "name": "stdout",
     "output_type": "stream",
     "text": [
      "Epoch: 22\tTrain Loss: 1.85180\tTrain Acc: 0.6095468350078749\tVal. Loss: 1.96316\t Val. Acc: 0.49466\n"
     ]
    },
    {
     "name": "stderr",
     "output_type": "stream",
     "text": [
      "                                                                                                                               \r"
     ]
    },
    {
     "name": "stdout",
     "output_type": "stream",
     "text": [
      "Epoch: 23\tTrain Loss: 1.84767\tTrain Acc: 0.6141823848799977\tVal. Loss: 1.96502\t Val. Acc: 0.49199\n"
     ]
    },
    {
     "name": "stderr",
     "output_type": "stream",
     "text": [
      "                                                                                                                               \r"
     ]
    },
    {
     "name": "stdout",
     "output_type": "stream",
     "text": [
      "Epoch: 24\tTrain Loss: 1.84174\tTrain Acc: 0.6198529412069589\tVal. Loss: 1.96203\t Val. Acc: 0.49545\n"
     ]
    },
    {
     "name": "stderr",
     "output_type": "stream",
     "text": [
      "                                                                                                                               \r"
     ]
    },
    {
     "name": "stdout",
     "output_type": "stream",
     "text": [
      "Epoch: 25\tTrain Loss: 1.83959\tTrain Acc: 0.6215752876932968\tVal. Loss: 1.96579\t Val. Acc: 0.49189\n"
     ]
    },
    {
     "name": "stderr",
     "output_type": "stream",
     "text": [
      "                                                                                                                               \r"
     ]
    },
    {
     "name": "stdout",
     "output_type": "stream",
     "text": [
      "Epoch: 26\tTrain Loss: 1.83584\tTrain Acc: 0.6258431906285493\tVal. Loss: 1.96431\t Val. Acc: 0.49140\n"
     ]
    },
    {
     "name": "stderr",
     "output_type": "stream",
     "text": [
      "                                                                                                                               \r"
     ]
    },
    {
     "name": "stdout",
     "output_type": "stream",
     "text": [
      "Epoch: 27\tTrain Loss: 1.83221\tTrain Acc: 0.6288003517538691\tVal. Loss: 1.96589\t Val. Acc: 0.49278\n"
     ]
    },
    {
     "name": "stderr",
     "output_type": "stream",
     "text": [
      "                                                                                                                               \r"
     ]
    },
    {
     "name": "stdout",
     "output_type": "stream",
     "text": [
      "Epoch: 28\tTrain Loss: 1.82582\tTrain Acc: 0.6355298913043478\tVal. Loss: 1.96486\t Val. Acc: 0.49347\n"
     ]
    },
    {
     "name": "stderr",
     "output_type": "stream",
     "text": [
      "                                                                                                                               \r"
     ]
    },
    {
     "name": "stdout",
     "output_type": "stream",
     "text": [
      "Epoch: 29\tTrain Loss: 1.82418\tTrain Acc: 0.6365609015040385\tVal. Loss: 1.96541\t Val. Acc: 0.49130\n"
     ]
    },
    {
     "name": "stderr",
     "output_type": "stream",
     "text": [
      "                                                                                                                               \r"
     ]
    },
    {
     "name": "stdout",
     "output_type": "stream",
     "text": [
      "Epoch: 30\tTrain Loss: 1.82092\tTrain Acc: 0.6407848465473146\tVal. Loss: 1.96574\t Val. Acc: 0.49150\n"
     ]
    },
    {
     "name": "stderr",
     "output_type": "stream",
     "text": [
      "                                                                                                                               \r"
     ]
    },
    {
     "name": "stdout",
     "output_type": "stream",
     "text": [
      "Epoch: 31\tTrain Loss: 1.81931\tTrain Acc: 0.6416440217391305\tVal. Loss: 1.95960\t Val. Acc: 0.49891\n"
     ]
    },
    {
     "name": "stderr",
     "output_type": "stream",
     "text": [
      "                                                                                                                               \r"
     ]
    },
    {
     "name": "stdout",
     "output_type": "stream",
     "text": [
      "Epoch: 32\tTrain Loss: 1.81305\tTrain Acc: 0.6481457800816393\tVal. Loss: 1.96505\t Val. Acc: 0.49387\n"
     ]
    },
    {
     "name": "stderr",
     "output_type": "stream",
     "text": [
      "                                                                                                                               \r"
     ]
    },
    {
     "name": "stdout",
     "output_type": "stream",
     "text": [
      "Epoch: 33\tTrain Loss: 1.80934\tTrain Acc: 0.6518462275909951\tVal. Loss: 1.96208\t Val. Acc: 0.49535\n"
     ]
    },
    {
     "name": "stderr",
     "output_type": "stream",
     "text": [
      "                                                                                                                               \r"
     ]
    },
    {
     "name": "stdout",
     "output_type": "stream",
     "text": [
      "Epoch: 34\tTrain Loss: 1.80610\tTrain Acc: 0.6551870205213347\tVal. Loss: 1.96080\t Val. Acc: 0.49753\n"
     ]
    },
    {
     "name": "stderr",
     "output_type": "stream",
     "text": [
      "                                                                                                                               \r"
     ]
    },
    {
     "name": "stdout",
     "output_type": "stream",
     "text": [
      "Epoch: 35\tTrain Loss: 1.80390\tTrain Acc: 0.6570492327365729\tVal. Loss: 1.96217\t Val. Acc: 0.49555\n"
     ]
    },
    {
     "name": "stderr",
     "output_type": "stream",
     "text": [
      "                                                                                                                               \r"
     ]
    },
    {
     "name": "stdout",
     "output_type": "stream",
     "text": [
      "Epoch: 36\tTrain Loss: 1.80304\tTrain Acc: 0.6580322890940224\tVal. Loss: 1.96280\t Val. Acc: 0.49466\n"
     ]
    },
    {
     "name": "stderr",
     "output_type": "stream",
     "text": [
      "                                                                                                                               \r"
     ]
    },
    {
     "name": "stdout",
     "output_type": "stream",
     "text": [
      "Epoch: 37\tTrain Loss: 1.79714\tTrain Acc: 0.6643182545366799\tVal. Loss: 1.95897\t Val. Acc: 0.49990\n"
     ]
    },
    {
     "name": "stderr",
     "output_type": "stream",
     "text": [
      "                                                                                                                               \r"
     ]
    },
    {
     "name": "stdout",
     "output_type": "stream",
     "text": [
      "Epoch: 38\tTrain Loss: 1.79891\tTrain Acc: 0.6618965792533992\tVal. Loss: 1.96064\t Val. Acc: 0.49753\n"
     ]
    },
    {
     "name": "stderr",
     "output_type": "stream",
     "text": [
      "                                                                                                                               \r"
     ]
    },
    {
     "name": "stdout",
     "output_type": "stream",
     "text": [
      "Epoch: 39\tTrain Loss: 1.79705\tTrain Acc: 0.6638347186395884\tVal. Loss: 1.96522\t Val. Acc: 0.49159\n"
     ]
    },
    {
     "name": "stderr",
     "output_type": "stream",
     "text": [
      "                                                                                                                               \r"
     ]
    },
    {
     "name": "stdout",
     "output_type": "stream",
     "text": [
      "Epoch: 40\tTrain Loss: 1.79327\tTrain Acc: 0.6673233696566824\tVal. Loss: 1.96212\t Val. Acc: 0.49604\n"
     ]
    },
    {
     "name": "stderr",
     "output_type": "stream",
     "text": [
      "                                                                                                                               \r"
     ]
    },
    {
     "name": "stdout",
     "output_type": "stream",
     "text": [
      "Epoch: 41\tTrain Loss: 1.78955\tTrain Acc: 0.6717750959079284\tVal. Loss: 1.96402\t Val. Acc: 0.49446\n"
     ]
    },
    {
     "name": "stderr",
     "output_type": "stream",
     "text": [
      "                                                                                                                               \r"
     ]
    },
    {
     "name": "stdout",
     "output_type": "stream",
     "text": [
      "Epoch: 42\tTrain Loss: 1.78817\tTrain Acc: 0.6731537723785166\tVal. Loss: 1.96180\t Val. Acc: 0.49693\n"
     ]
    },
    {
     "name": "stderr",
     "output_type": "stream",
     "text": [
      "                                                                                                                               \r"
     ]
    },
    {
     "name": "stdout",
     "output_type": "stream",
     "text": [
      "Epoch: 43\tTrain Loss: 1.78785\tTrain Acc: 0.6733975384546362\tVal. Loss: 1.96307\t Val. Acc: 0.49515\n"
     ]
    },
    {
     "name": "stderr",
     "output_type": "stream",
     "text": [
      "                                                                                                                               \r"
     ]
    },
    {
     "name": "stdout",
     "output_type": "stream",
     "text": [
      "Epoch: 44\tTrain Loss: 1.78405\tTrain Acc: 0.6770620204298697\tVal. Loss: 1.96253\t Val. Acc: 0.49565\n"
     ]
    },
    {
     "name": "stderr",
     "output_type": "stream",
     "text": [
      "                                                                                                                               \r"
     ]
    },
    {
     "name": "stdout",
     "output_type": "stream",
     "text": [
      "Epoch: 45\tTrain Loss: 1.78331\tTrain Acc: 0.6776734335953013\tVal. Loss: 1.96063\t Val. Acc: 0.49624\n"
     ]
    },
    {
     "name": "stderr",
     "output_type": "stream",
     "text": [
      "                                                                                                                               \r"
     ]
    },
    {
     "name": "stdout",
     "output_type": "stream",
     "text": [
      "Epoch: 46\tTrain Loss: 1.78105\tTrain Acc: 0.6800511509866056\tVal. Loss: 1.96154\t Val. Acc: 0.49703\n"
     ]
    },
    {
     "name": "stderr",
     "output_type": "stream",
     "text": [
      "                                                                                                                               \r"
     ]
    },
    {
     "name": "stdout",
     "output_type": "stream",
     "text": [
      "Epoch: 47\tTrain Loss: 1.77840\tTrain Acc: 0.682308983467424\tVal. Loss: 1.95932\t Val. Acc: 0.49891\n"
     ]
    },
    {
     "name": "stderr",
     "output_type": "stream",
     "text": [
      "                                                                                                                               \r"
     ]
    },
    {
     "name": "stdout",
     "output_type": "stream",
     "text": [
      "Epoch: 48\tTrain Loss: 1.77829\tTrain Acc: 0.6824608376568846\tVal. Loss: 1.96407\t Val. Acc: 0.49377\n"
     ]
    },
    {
     "name": "stderr",
     "output_type": "stream",
     "text": [
      "                                                                                                                               \r"
     ]
    },
    {
     "name": "stdout",
     "output_type": "stream",
     "text": [
      "Epoch: 49\tTrain Loss: 1.77622\tTrain Acc: 0.6846427429667519\tVal. Loss: 1.96024\t Val. Acc: 0.49941\n"
     ]
    },
    {
     "name": "stderr",
     "output_type": "stream",
     "text": [
      "                                                                                                                               \r"
     ]
    },
    {
     "name": "stdout",
     "output_type": "stream",
     "text": [
      "Epoch: 50\tTrain Loss: 1.77356\tTrain Acc: 0.6874560422604651\tVal. Loss: 1.96241\t Val. Acc: 0.49614\n"
     ]
    },
    {
     "name": "stderr",
     "output_type": "stream",
     "text": [
      "                                                                                                                               \r"
     ]
    },
    {
     "name": "stdout",
     "output_type": "stream",
     "text": [
      "Epoch: 51\tTrain Loss: 1.76936\tTrain Acc: 0.6921795077640992\tVal. Loss: 1.95981\t Val. Acc: 0.49881\n"
     ]
    },
    {
     "name": "stderr",
     "output_type": "stream",
     "text": [
      "                                                                                                                               \r"
     ]
    },
    {
     "name": "stdout",
     "output_type": "stream",
     "text": [
      "Epoch: 52\tTrain Loss: 1.77034\tTrain Acc: 0.6908527813908999\tVal. Loss: 1.95751\t Val. Acc: 0.50089\n"
     ]
    },
    {
     "name": "stderr",
     "output_type": "stream",
     "text": [
      "                                                                                                                               \r"
     ]
    },
    {
     "name": "stdout",
     "output_type": "stream",
     "text": [
      "Epoch: 53\tTrain Loss: 1.76802\tTrain Acc: 0.6927989131349432\tVal. Loss: 1.96275\t Val. Acc: 0.49515\n"
     ]
    },
    {
     "name": "stderr",
     "output_type": "stream",
     "text": [
      "                                                                                                                               \r"
     ]
    },
    {
     "name": "stdout",
     "output_type": "stream",
     "text": [
      "Epoch: 54\tTrain Loss: 1.76774\tTrain Acc: 0.6930426790586213\tVal. Loss: 1.95970\t Val. Acc: 0.50020\n"
     ]
    },
    {
     "name": "stderr",
     "output_type": "stream",
     "text": [
      "                                                                                                                               \r"
     ]
    },
    {
     "name": "stdout",
     "output_type": "stream",
     "text": [
      "Epoch: 55\tTrain Loss: 1.76485\tTrain Acc: 0.6959798593655266\tVal. Loss: 1.96057\t Val. Acc: 0.49862\n"
     ]
    },
    {
     "name": "stderr",
     "output_type": "stream",
     "text": [
      "                                                                                                                               \r"
     ]
    },
    {
     "name": "stdout",
     "output_type": "stream",
     "text": [
      "Epoch: 56\tTrain Loss: 1.76550\tTrain Acc: 0.6954763428024624\tVal. Loss: 1.95752\t Val. Acc: 0.50069\n"
     ]
    },
    {
     "name": "stderr",
     "output_type": "stream",
     "text": [
      "                                                                                                                               \r"
     ]
    },
    {
     "name": "stdout",
     "output_type": "stream",
     "text": [
      "Epoch: 57\tTrain Loss: 1.76380\tTrain Acc: 0.6966751919073217\tVal. Loss: 1.96058\t Val. Acc: 0.49842\n"
     ]
    },
    {
     "name": "stderr",
     "output_type": "stream",
     "text": [
      "                                                                                                                               \r"
     ]
    },
    {
     "name": "stdout",
     "output_type": "stream",
     "text": [
      "Epoch: 58\tTrain Loss: 1.76140\tTrain Acc: 0.6995004795091536\tVal. Loss: 1.95706\t Val. Acc: 0.50188\n"
     ]
    },
    {
     "name": "stderr",
     "output_type": "stream",
     "text": [
      "                                                                                                                               \r"
     ]
    },
    {
     "name": "stdout",
     "output_type": "stream",
     "text": [
      "Epoch: 59\tTrain Loss: 1.76094\tTrain Acc: 0.6999080882352942\tVal. Loss: 1.96090\t Val. Acc: 0.49812\n"
     ]
    },
    {
     "name": "stderr",
     "output_type": "stream",
     "text": [
      "                                                                                                                               \r"
     ]
    },
    {
     "name": "stdout",
     "output_type": "stream",
     "text": [
      "Epoch: 60\tTrain Loss: 1.75647\tTrain Acc: 0.7050391624650687\tVal. Loss: 1.96157\t Val. Acc: 0.49703\n"
     ]
    },
    {
     "name": "stderr",
     "output_type": "stream",
     "text": [
      "                                                                                                                               \r"
     ]
    },
    {
     "name": "stdout",
     "output_type": "stream",
     "text": [
      "Epoch: 61\tTrain Loss: 1.75620\tTrain Acc: 0.7049672315492654\tVal. Loss: 1.95937\t Val. Acc: 0.49862\n"
     ]
    },
    {
     "name": "stderr",
     "output_type": "stream",
     "text": [
      "                                                                                                                               \r"
     ]
    },
    {
     "name": "stdout",
     "output_type": "stream",
     "text": [
      "Epoch: 62\tTrain Loss: 1.75523\tTrain Acc: 0.7059103261174449\tVal. Loss: 1.95796\t Val. Acc: 0.50138\n"
     ]
    },
    {
     "name": "stderr",
     "output_type": "stream",
     "text": [
      "                                                                                                                               \r"
     ]
    },
    {
     "name": "stdout",
     "output_type": "stream",
     "text": [
      "Epoch: 63\tTrain Loss: 1.75519\tTrain Acc: 0.7055626598465473\tVal. Loss: 1.96190\t Val. Acc: 0.49723\n"
     ]
    },
    {
     "name": "stderr",
     "output_type": "stream",
     "text": [
      "                                                                                                                               \r"
     ]
    },
    {
     "name": "stdout",
     "output_type": "stream",
     "text": [
      "Epoch: 64\tTrain Loss: 1.75335\tTrain Acc: 0.707408887498519\tVal. Loss: 1.95781\t Val. Acc: 0.50129\n"
     ]
    },
    {
     "name": "stderr",
     "output_type": "stream",
     "text": [
      "                                                                                                                               \r"
     ]
    },
    {
     "name": "stdout",
     "output_type": "stream",
     "text": [
      "Epoch: 65\tTrain Loss: 1.75105\tTrain Acc: 0.7097546356108487\tVal. Loss: 1.96278\t Val. Acc: 0.49595\n"
     ]
    },
    {
     "name": "stderr",
     "output_type": "stream",
     "text": [
      "                                                                                                                               \r"
     ]
    },
    {
     "name": "stdout",
     "output_type": "stream",
     "text": [
      "Epoch: 66\tTrain Loss: 1.75029\tTrain Acc: 0.7106058184448105\tVal. Loss: 1.96186\t Val. Acc: 0.49723\n"
     ]
    },
    {
     "name": "stderr",
     "output_type": "stream",
     "text": [
      "                                                                                                                               \r"
     ]
    },
    {
     "name": "stdout",
     "output_type": "stream",
     "text": [
      "Epoch: 67\tTrain Loss: 1.74940\tTrain Acc: 0.711632832541795\tVal. Loss: 1.95827\t Val. Acc: 0.50049\n"
     ]
    },
    {
     "name": "stderr",
     "output_type": "stream",
     "text": [
      "                                                                                                                               \r"
     ]
    },
    {
     "name": "stdout",
     "output_type": "stream",
     "text": [
      "Epoch: 68\tTrain Loss: 1.74738\tTrain Acc: 0.7132153132992327\tVal. Loss: 1.96026\t Val. Acc: 0.49881\n"
     ]
    },
    {
     "name": "stderr",
     "output_type": "stream",
     "text": [
      "                                                                                                                               \r"
     ]
    },
    {
     "name": "stdout",
     "output_type": "stream",
     "text": [
      "Epoch: 69\tTrain Loss: 1.74727\tTrain Acc: 0.7132792520096235\tVal. Loss: 1.95541\t Val. Acc: 0.50405\n"
     ]
    },
    {
     "name": "stderr",
     "output_type": "stream",
     "text": [
      "                                                                                                                               \r"
     ]
    },
    {
     "name": "stdout",
     "output_type": "stream",
     "text": [
      "Epoch: 70\tTrain Loss: 1.74837\tTrain Acc: 0.7125519501888539\tVal. Loss: 1.95683\t Val. Acc: 0.50247\n"
     ]
    },
    {
     "name": "stderr",
     "output_type": "stream",
     "text": [
      "                                                                                                                               \r"
     ]
    },
    {
     "name": "stdout",
     "output_type": "stream",
     "text": [
      "Epoch: 71\tTrain Loss: 1.74619\tTrain Acc: 0.7143742007672634\tVal. Loss: 1.95812\t Val. Acc: 0.50049\n"
     ]
    },
    {
     "name": "stderr",
     "output_type": "stream",
     "text": [
      "                                                                                                                               \r"
     ]
    },
    {
     "name": "stdout",
     "output_type": "stream",
     "text": [
      "Epoch: 72\tTrain Loss: 1.74372\tTrain Acc: 0.717095588326759\tVal. Loss: 1.96051\t Val. Acc: 0.49852\n"
     ]
    },
    {
     "name": "stderr",
     "output_type": "stream",
     "text": [
      "                                                                                                                               \r"
     ]
    },
    {
     "name": "stdout",
     "output_type": "stream",
     "text": [
      "Epoch: 73\tTrain Loss: 1.74434\tTrain Acc: 0.7166200447875215\tVal. Loss: 1.96067\t Val. Acc: 0.49852\n"
     ]
    },
    {
     "name": "stderr",
     "output_type": "stream",
     "text": [
      "                                                                                                                               \r"
     ]
    },
    {
     "name": "stdout",
     "output_type": "stream",
     "text": [
      "Epoch: 74\tTrain Loss: 1.73885\tTrain Acc: 0.721922954025171\tVal. Loss: 1.95629\t Val. Acc: 0.50297\n"
     ]
    },
    {
     "name": "stderr",
     "output_type": "stream",
     "text": [
      "                                                                                                                               \r"
     ]
    },
    {
     "name": "stdout",
     "output_type": "stream",
     "text": [
      "Epoch: 75\tTrain Loss: 1.74047\tTrain Acc: 0.7202485613810742\tVal. Loss: 1.96342\t Val. Acc: 0.49565\n"
     ]
    },
    {
     "name": "stderr",
     "output_type": "stream",
     "text": [
      "                                                                                                                               \r"
     ]
    },
    {
     "name": "stdout",
     "output_type": "stream",
     "text": [
      "Epoch: 76\tTrain Loss: 1.73947\tTrain Acc: 0.7216272378516624\tVal. Loss: 1.95862\t Val. Acc: 0.50089\n"
     ]
    },
    {
     "name": "stderr",
     "output_type": "stream",
     "text": [
      "                                                                                                                               \r"
     ]
    },
    {
     "name": "stdout",
     "output_type": "stream",
     "text": [
      "Epoch: 77\tTrain Loss: 1.73652\tTrain Acc: 0.7243326406954499\tVal. Loss: 1.95516\t Val. Acc: 0.50405\n"
     ]
    },
    {
     "name": "stderr",
     "output_type": "stream",
     "text": [
      "                                                                                                                               \r"
     ]
    },
    {
     "name": "stdout",
     "output_type": "stream",
     "text": [
      "Epoch: 78\tTrain Loss: 1.73642\tTrain Acc: 0.7245244565217391\tVal. Loss: 1.95885\t Val. Acc: 0.50010\n"
     ]
    },
    {
     "name": "stderr",
     "output_type": "stream",
     "text": [
      "                                                                                                                               \r"
     ]
    },
    {
     "name": "stdout",
     "output_type": "stream",
     "text": [
      "Epoch: 79\tTrain Loss: 1.73705\tTrain Acc: 0.7238451086956522\tVal. Loss: 1.95514\t Val. Acc: 0.50366\n"
     ]
    },
    {
     "name": "stderr",
     "output_type": "stream",
     "text": [
      "                                                                                                                               \r"
     ]
    },
    {
     "name": "stdout",
     "output_type": "stream",
     "text": [
      "Epoch: 80\tTrain Loss: 1.73635\tTrain Acc: 0.7243726023322786\tVal. Loss: 1.95994\t Val. Acc: 0.49921\n"
     ]
    },
    {
     "name": "stderr",
     "output_type": "stream",
     "text": [
      "                                                                                                                               \r"
     ]
    },
    {
     "name": "stdout",
     "output_type": "stream",
     "text": [
      "Epoch: 81\tTrain Loss: 1.73259\tTrain Acc: 0.7283887468335574\tVal. Loss: 1.95736\t Val. Acc: 0.50129\n"
     ]
    },
    {
     "name": "stderr",
     "output_type": "stream",
     "text": [
      "                                                                                                                               \r"
     ]
    },
    {
     "name": "stdout",
     "output_type": "stream",
     "text": [
      "Epoch: 82\tTrain Loss: 1.73229\tTrain Acc: 0.7284486892888004\tVal. Loss: 1.95640\t Val. Acc: 0.50247\n"
     ]
    },
    {
     "name": "stderr",
     "output_type": "stream",
     "text": [
      "                                                                                                                               \r"
     ]
    },
    {
     "name": "stdout",
     "output_type": "stream",
     "text": [
      "Epoch: 83\tTrain Loss: 1.72946\tTrain Acc: 0.7314977621483376\tVal. Loss: 1.95763\t Val. Acc: 0.50040\n"
     ]
    },
    {
     "name": "stderr",
     "output_type": "stream",
     "text": [
      "                                                                                                                               \r"
     ]
    },
    {
     "name": "stdout",
     "output_type": "stream",
     "text": [
      "Epoch: 84\tTrain Loss: 1.73102\tTrain Acc: 0.7298833121119253\tVal. Loss: 1.96160\t Val. Acc: 0.49723\n"
     ]
    },
    {
     "name": "stderr",
     "output_type": "stream",
     "text": [
      "                                                                                                                               \r"
     ]
    },
    {
     "name": "stdout",
     "output_type": "stream",
     "text": [
      "Epoch: 85\tTrain Loss: 1.73011\tTrain Acc: 0.7307824489405698\tVal. Loss: 1.95901\t Val. Acc: 0.49980\n"
     ]
    },
    {
     "name": "stderr",
     "output_type": "stream",
     "text": [
      "                                                                                                                               \r"
     ]
    },
    {
     "name": "stdout",
     "output_type": "stream",
     "text": [
      "Epoch: 86\tTrain Loss: 1.72866\tTrain Acc: 0.7321771099744245\tVal. Loss: 1.95601\t Val. Acc: 0.50307\n"
     ]
    },
    {
     "name": "stderr",
     "output_type": "stream",
     "text": [
      "                                                                                                                               \r"
     ]
    },
    {
     "name": "stdout",
     "output_type": "stream",
     "text": [
      "Epoch: 87\tTrain Loss: 1.72944\tTrain Acc: 0.7314098465168263\tVal. Loss: 1.95442\t Val. Acc: 0.50415\n"
     ]
    },
    {
     "name": "stderr",
     "output_type": "stream",
     "text": [
      "                                                                                                                               \r"
     ]
    },
    {
     "name": "stdout",
     "output_type": "stream",
     "text": [
      "Epoch: 88\tTrain Loss: 1.72640\tTrain Acc: 0.7344669117342175\tVal. Loss: 1.96113\t Val. Acc: 0.49713\n"
     ]
    },
    {
     "name": "stderr",
     "output_type": "stream",
     "text": [
      "                                                                                                                               \r"
     ]
    },
    {
     "name": "stdout",
     "output_type": "stream",
     "text": [
      "Epoch: 89\tTrain Loss: 1.72596\tTrain Acc: 0.7350463554682329\tVal. Loss: 1.95286\t Val. Acc: 0.50653\n"
     ]
    },
    {
     "name": "stderr",
     "output_type": "stream",
     "text": [
      "                                                                                                                               \r"
     ]
    },
    {
     "name": "stdout",
     "output_type": "stream",
     "text": [
      "Epoch: 90\tTrain Loss: 1.72156\tTrain Acc: 0.7393622122457265\tVal. Loss: 1.95481\t Val. Acc: 0.50455\n"
     ]
    },
    {
     "name": "stderr",
     "output_type": "stream",
     "text": [
      "                                                                                                                               \r"
     ]
    },
    {
     "name": "stdout",
     "output_type": "stream",
     "text": [
      "Epoch: 91\tTrain Loss: 1.72539\tTrain Acc: 0.7356937340153452\tVal. Loss: 1.95940\t Val. Acc: 0.49941\n"
     ]
    },
    {
     "name": "stderr",
     "output_type": "stream",
     "text": [
      "                                                                                                                               \r"
     ]
    },
    {
     "name": "stdout",
     "output_type": "stream",
     "text": [
      "Epoch: 92\tTrain Loss: 1.72169\tTrain Acc: 0.739338235324606\tVal. Loss: 1.95960\t Val. Acc: 0.49862\n"
     ]
    },
    {
     "name": "stderr",
     "output_type": "stream",
     "text": [
      "                                                                                                                               \r"
     ]
    },
    {
     "name": "stdout",
     "output_type": "stream",
     "text": [
      "Epoch: 93\tTrain Loss: 1.72187\tTrain Acc: 0.7388347187615416\tVal. Loss: 1.95521\t Val. Acc: 0.50405\n"
     ]
    },
    {
     "name": "stderr",
     "output_type": "stream",
     "text": [
      "                                                                                                                               \r"
     ]
    },
    {
     "name": "stdout",
     "output_type": "stream",
     "text": [
      "Epoch: 94\tTrain Loss: 1.72059\tTrain Acc: 0.7404371803373937\tVal. Loss: 1.95413\t Val. Acc: 0.50534\n"
     ]
    },
    {
     "name": "stderr",
     "output_type": "stream",
     "text": [
      "                                                                                                                               \r"
     ]
    },
    {
     "name": "stdout",
     "output_type": "stream",
     "text": [
      "Epoch: 95\tTrain Loss: 1.71900\tTrain Acc: 0.7418757992632249\tVal. Loss: 1.95468\t Val. Acc: 0.50425\n"
     ]
    },
    {
     "name": "stderr",
     "output_type": "stream",
     "text": [
      "                                                                                                                               \r"
     ]
    },
    {
     "name": "stdout",
     "output_type": "stream",
     "text": [
      "Epoch: 96\tTrain Loss: 1.71876\tTrain Acc: 0.7421994884605603\tVal. Loss: 1.95768\t Val. Acc: 0.50129\n"
     ]
    },
    {
     "name": "stderr",
     "output_type": "stream",
     "text": [
      "                                                                                                                               \r"
     ]
    },
    {
     "name": "stdout",
     "output_type": "stream",
     "text": [
      "Epoch: 97\tTrain Loss: 1.71961\tTrain Acc: 0.7412284207161125\tVal. Loss: 1.95586\t Val. Acc: 0.50257\n"
     ]
    },
    {
     "name": "stderr",
     "output_type": "stream",
     "text": [
      "                                                                                                                               \r"
     ]
    },
    {
     "name": "stdout",
     "output_type": "stream",
     "text": [
      "Epoch: 98\tTrain Loss: 1.71666\tTrain Acc: 0.7443254475703325\tVal. Loss: 1.96017\t Val. Acc: 0.49891\n"
     ]
    },
    {
     "name": "stderr",
     "output_type": "stream",
     "text": [
      "                                                                                                                               \r"
     ]
    },
    {
     "name": "stdout",
     "output_type": "stream",
     "text": [
      "Epoch: 99\tTrain Loss: 1.71946\tTrain Acc: 0.7415521100658895\tVal. Loss: 1.95613\t Val. Acc: 0.50287\n"
     ]
    },
    {
     "name": "stderr",
     "output_type": "stream",
     "text": [
      "                                                                                                                               \r"
     ]
    },
    {
     "name": "stdout",
     "output_type": "stream",
     "text": [
      "Epoch: 100\tTrain Loss: 1.71683\tTrain Acc: 0.74418957809658\tVal. Loss: 1.95705\t Val. Acc: 0.50188\n"
     ]
    },
    {
     "name": "stderr",
     "output_type": "stream",
     "text": [
      "                                                                                                                               \r"
     ]
    },
    {
     "name": "stdout",
     "output_type": "stream",
     "text": [
      "Epoch: 101\tTrain Loss: 1.71680\tTrain Acc: 0.7441775894835782\tVal. Loss: 1.95522\t Val. Acc: 0.50376\n"
     ]
    },
    {
     "name": "stderr",
     "output_type": "stream",
     "text": [
      "                                                                                                                               \r"
     ]
    },
    {
     "name": "stdout",
     "output_type": "stream",
     "text": [
      "Epoch: 102\tTrain Loss: 1.71535\tTrain Acc: 0.7456202046645571\tVal. Loss: 1.95427\t Val. Acc: 0.50485\n"
     ]
    },
    {
     "name": "stderr",
     "output_type": "stream",
     "text": [
      "                                                                                                                               \r"
     ]
    },
    {
     "name": "stdout",
     "output_type": "stream",
     "text": [
      "Epoch: 103\tTrain Loss: 1.71263\tTrain Acc: 0.7478540600718134\tVal. Loss: 1.95664\t Val. Acc: 0.50257\n"
     ]
    },
    {
     "name": "stderr",
     "output_type": "stream",
     "text": [
      "                                                                                                                               \r"
     ]
    },
    {
     "name": "stdout",
     "output_type": "stream",
     "text": [
      "Epoch: 104\tTrain Loss: 1.71539\tTrain Acc: 0.7455163043173377\tVal. Loss: 1.95686\t Val. Acc: 0.50188\n"
     ]
    },
    {
     "name": "stderr",
     "output_type": "stream",
     "text": [
      "                                                                                                                               \r"
     ]
    },
    {
     "name": "stdout",
     "output_type": "stream",
     "text": [
      "Epoch: 105\tTrain Loss: 1.71151\tTrain Acc: 0.7494165601632784\tVal. Loss: 1.95305\t Val. Acc: 0.50702\n"
     ]
    },
    {
     "name": "stderr",
     "output_type": "stream",
     "text": [
      "                                                                                                                               \r"
     ]
    },
    {
     "name": "stdout",
     "output_type": "stream",
     "text": [
      "Epoch: 106\tTrain Loss: 1.71107\tTrain Acc: 0.7502437660761196\tVal. Loss: 1.95748\t Val. Acc: 0.50129\n"
     ]
    },
    {
     "name": "stderr",
     "output_type": "stream",
     "text": [
      "                                                                                                                               \r"
     ]
    },
    {
     "name": "stdout",
     "output_type": "stream",
     "text": [
      "Epoch: 107\tTrain Loss: 1.71125\tTrain Acc: 0.7494964834369356\tVal. Loss: 1.96463\t Val. Acc: 0.49308\n"
     ]
    },
    {
     "name": "stderr",
     "output_type": "stream",
     "text": [
      "                                                                                                                               \r"
     ]
    },
    {
     "name": "stdout",
     "output_type": "stream",
     "text": [
      "Epoch: 108\tTrain Loss: 1.71226\tTrain Acc: 0.7483535805321715\tVal. Loss: 1.96004\t Val. Acc: 0.49891\n"
     ]
    },
    {
     "name": "stderr",
     "output_type": "stream",
     "text": [
      "                                                                                                                               \r"
     ]
    },
    {
     "name": "stdout",
     "output_type": "stream",
     "text": [
      "Epoch: 109\tTrain Loss: 1.71012\tTrain Acc: 0.750559462915601\tVal. Loss: 1.95675\t Val. Acc: 0.50247\n"
     ]
    },
    {
     "name": "stderr",
     "output_type": "stream",
     "text": [
      "                                                                                                                               \r"
     ]
    },
    {
     "name": "stdout",
     "output_type": "stream",
     "text": [
      "Epoch: 110\tTrain Loss: 1.70699\tTrain Acc: 0.754028132961839\tVal. Loss: 1.96081\t Val. Acc: 0.49654\n"
     ]
    },
    {
     "name": "stderr",
     "output_type": "stream",
     "text": [
      "                                                                                                                               \r"
     ]
    },
    {
     "name": "stdout",
     "output_type": "stream",
     "text": [
      "Epoch: 111\tTrain Loss: 1.70736\tTrain Acc: 0.7536165281329923\tVal. Loss: 1.95796\t Val. Acc: 0.50089\n"
     ]
    },
    {
     "name": "stderr",
     "output_type": "stream",
     "text": [
      "                                                                                                                               \r"
     ]
    },
    {
     "name": "stdout",
     "output_type": "stream",
     "text": [
      "Epoch: 112\tTrain Loss: 1.70675\tTrain Acc: 0.754148017872325\tVal. Loss: 1.95250\t Val. Acc: 0.50771\n"
     ]
    },
    {
     "name": "stderr",
     "output_type": "stream",
     "text": [
      "                                                                                                                               \r"
     ]
    },
    {
     "name": "stdout",
     "output_type": "stream",
     "text": [
      "Epoch: 113\tTrain Loss: 1.70732\tTrain Acc: 0.7537563938618926\tVal. Loss: 1.95906\t Val. Acc: 0.50020\n"
     ]
    },
    {
     "name": "stderr",
     "output_type": "stream",
     "text": [
      "                                                                                                                               \r"
     ]
    },
    {
     "name": "stdout",
     "output_type": "stream",
     "text": [
      "Epoch: 114\tTrain Loss: 1.70657\tTrain Acc: 0.7541919757643014\tVal. Loss: 1.95405\t Val. Acc: 0.50613\n"
     ]
    },
    {
     "name": "stderr",
     "output_type": "stream",
     "text": [
      "                                                                                                                               \r"
     ]
    },
    {
     "name": "stdout",
     "output_type": "stream",
     "text": [
      "Epoch: 115\tTrain Loss: 1.70388\tTrain Acc: 0.7571771100658895\tVal. Loss: 1.95649\t Val. Acc: 0.50257\n"
     ]
    },
    {
     "name": "stderr",
     "output_type": "stream",
     "text": [
      "                                                                                                                               \r"
     ]
    },
    {
     "name": "stdout",
     "output_type": "stream",
     "text": [
      "Epoch: 116\tTrain Loss: 1.70746\tTrain Acc: 0.7533288043173377\tVal. Loss: 1.96187\t Val. Acc: 0.49693\n"
     ]
    },
    {
     "name": "stderr",
     "output_type": "stream",
     "text": [
      "                                                                                                                               \r"
     ]
    },
    {
     "name": "stdout",
     "output_type": "stream",
     "text": [
      "Epoch: 117\tTrain Loss: 1.70527\tTrain Acc: 0.755446771069256\tVal. Loss: 1.96071\t Val. Acc: 0.49812\n"
     ]
    },
    {
     "name": "stderr",
     "output_type": "stream",
     "text": [
      "                                                                                                                               \r"
     ]
    },
    {
     "name": "stdout",
     "output_type": "stream",
     "text": [
      "Epoch: 118\tTrain Loss: 1.70474\tTrain Acc: 0.7562140345268542\tVal. Loss: 1.95818\t Val. Acc: 0.50099\n"
     ]
    },
    {
     "name": "stderr",
     "output_type": "stream",
     "text": [
      "                                                                                                                               \r"
     ]
    },
    {
     "name": "stdout",
     "output_type": "stream",
     "text": [
      "Epoch: 119\tTrain Loss: 1.70477\tTrain Acc: 0.7561860613505859\tVal. Loss: 1.95814\t Val. Acc: 0.50089\n"
     ]
    },
    {
     "name": "stderr",
     "output_type": "stream",
     "text": [
      "                                                                                                                               \r"
     ]
    },
    {
     "name": "stdout",
     "output_type": "stream",
     "text": [
      "Epoch: 120\tTrain Loss: 1.70204\tTrain Acc: 0.759127237912639\tVal. Loss: 1.96023\t Val. Acc: 0.49832\n"
     ]
    },
    {
     "name": "stderr",
     "output_type": "stream",
     "text": [
      "                                                                                                                               \r"
     ]
    },
    {
     "name": "stdout",
     "output_type": "stream",
     "text": [
      "Epoch: 121\tTrain Loss: 1.70276\tTrain Acc: 0.7579084079893653\tVal. Loss: 1.95437\t Val. Acc: 0.50494\n"
     ]
    },
    {
     "name": "stderr",
     "output_type": "stream",
     "text": [
      "                                                                                                                               \r"
     ]
    },
    {
     "name": "stdout",
     "output_type": "stream",
     "text": [
      "Epoch: 122\tTrain Loss: 1.70052\tTrain Acc: 0.7603820332175936\tVal. Loss: 1.95860\t Val. Acc: 0.50069\n"
     ]
    },
    {
     "name": "stderr",
     "output_type": "stream",
     "text": [
      "                                                                                                                               \r"
     ]
    },
    {
     "name": "stdout",
     "output_type": "stream",
     "text": [
      "Epoch: 123\tTrain Loss: 1.69863\tTrain Acc: 0.7621443414932016\tVal. Loss: 1.96130\t Val. Acc: 0.49773\n"
     ]
    },
    {
     "name": "stderr",
     "output_type": "stream",
     "text": [
      "                                                                                                                               \r"
     ]
    },
    {
     "name": "stdout",
     "output_type": "stream",
     "text": [
      "Epoch: 124\tTrain Loss: 1.69881\tTrain Acc: 0.7619205562354964\tVal. Loss: 1.96146\t Val. Acc: 0.49753\n"
     ]
    },
    {
     "name": "stderr",
     "output_type": "stream",
     "text": [
      "                                                                                                                               \r"
     ]
    },
    {
     "name": "stdout",
     "output_type": "stream",
     "text": [
      "Epoch: 125\tTrain Loss: 1.69951\tTrain Acc: 0.7613131394776542\tVal. Loss: 1.95854\t Val. Acc: 0.50059\n"
     ]
    },
    {
     "name": "stderr",
     "output_type": "stream",
     "text": [
      "                                                                                                                               \r"
     ]
    },
    {
     "name": "stdout",
     "output_type": "stream",
     "text": [
      "Epoch: 126\tTrain Loss: 1.69890\tTrain Acc: 0.7618845908538155\tVal. Loss: 1.95422\t Val. Acc: 0.50544\n"
     ]
    },
    {
     "name": "stderr",
     "output_type": "stream",
     "text": [
      "                                                                                                                               \r"
     ]
    },
    {
     "name": "stdout",
     "output_type": "stream",
     "text": [
      "Epoch: 127\tTrain Loss: 1.69920\tTrain Acc: 0.7616528133906977\tVal. Loss: 1.95832\t Val. Acc: 0.50059\n"
     ]
    },
    {
     "name": "stderr",
     "output_type": "stream",
     "text": [
      "                                                                                                                               \r"
     ]
    },
    {
     "name": "stdout",
     "output_type": "stream",
     "text": [
      "Epoch: 128\tTrain Loss: 1.69851\tTrain Acc: 0.7624320653088562\tVal. Loss: 1.96173\t Val. Acc: 0.49674\n"
     ]
    },
    {
     "name": "stderr",
     "output_type": "stream",
     "text": [
      "                                                                                                                               \r"
     ]
    },
    {
     "name": "stdout",
     "output_type": "stream",
     "text": [
      "Epoch: 129\tTrain Loss: 1.69733\tTrain Acc: 0.7636029412374472\tVal. Loss: 1.95853\t Val. Acc: 0.50030\n"
     ]
    },
    {
     "name": "stderr",
     "output_type": "stream",
     "text": [
      "                                                                                                                               \r"
     ]
    },
    {
     "name": "stdout",
     "output_type": "stream",
     "text": [
      "Epoch: 130\tTrain Loss: 1.69511\tTrain Acc: 0.7656729539946827\tVal. Loss: 1.96273\t Val. Acc: 0.49664\n"
     ]
    },
    {
     "name": "stderr",
     "output_type": "stream",
     "text": [
      "                                                                                                                               \r"
     ]
    },
    {
     "ename": "KeyboardInterrupt",
     "evalue": "",
     "output_type": "error",
     "traceback": [
      "\u001b[0;31m---------------------------------------------------------------------------\u001b[0m",
      "\u001b[0;31mKeyboardInterrupt\u001b[0m                         Traceback (most recent call last)",
      "Input \u001b[0;32mIn [40]\u001b[0m, in \u001b[0;36m<cell line: 32>\u001b[0;34m()\u001b[0m\n\u001b[1;32m     29\u001b[0m optimizer \u001b[38;5;241m=\u001b[39m optim\u001b[38;5;241m.\u001b[39mAdam(model\u001b[38;5;241m.\u001b[39mparameters()) \u001b[38;5;66;03m# optim.SGD(model.parameters(),lr=1e-3)\u001b[39;00m\n\u001b[1;32m     32\u001b[0m \u001b[38;5;28;01mfor\u001b[39;00m epoch \u001b[38;5;129;01min\u001b[39;00m \u001b[38;5;28mrange\u001b[39m(EPOCHS):\n\u001b[0;32m---> 33\u001b[0m     train_loss, train_acc \u001b[38;5;241m=\u001b[39m \u001b[43mtrain\u001b[49m\u001b[43m(\u001b[49m\u001b[43mmodel\u001b[49m\u001b[43m,\u001b[49m\u001b[43m \u001b[49m\u001b[43mtrain_iterator\u001b[49m\u001b[43m,\u001b[49m\u001b[43m \u001b[49m\u001b[43moptimizer\u001b[49m\u001b[43m,\u001b[49m\u001b[43m \u001b[49m\u001b[43mcriterion\u001b[49m\u001b[43m,\u001b[49m\u001b[43m \u001b[49m\u001b[43mdevice\u001b[49m\u001b[43m)\u001b[49m\n\u001b[1;32m     34\u001b[0m     valid_loss, valid_acc, freq \u001b[38;5;241m=\u001b[39m evaluate(model, test_iterator, criterion, device)\n\u001b[1;32m     35\u001b[0m     df\u001b[38;5;241m.\u001b[39mloc[\u001b[38;5;28mlen\u001b[39m(df),:] \u001b[38;5;241m=\u001b[39m (epoch, BATCH_SIZE,WIDTH,LAYERS, NORM,ACTIVATION,train_acc, valid_acc, train_loss, valid_loss)\n",
      "Input \u001b[0;32mIn [1]\u001b[0m, in \u001b[0;36mtrain\u001b[0;34m(model, iterator, optimizer, criterion, device)\u001b[0m\n\u001b[1;32m     35\u001b[0m epoch_acc \u001b[38;5;241m=\u001b[39m \u001b[38;5;241m0\u001b[39m\n\u001b[1;32m     37\u001b[0m model\u001b[38;5;241m.\u001b[39mtrain()\n\u001b[0;32m---> 39\u001b[0m \u001b[38;5;28;01mfor\u001b[39;00m (x, y) \u001b[38;5;129;01min\u001b[39;00m tqdm\u001b[38;5;241m.\u001b[39mtqdm(iterator, desc\u001b[38;5;241m=\u001b[39m\u001b[38;5;124m\"\u001b[39m\u001b[38;5;124mTraining\u001b[39m\u001b[38;5;124m\"\u001b[39m, leave\u001b[38;5;241m=\u001b[39m\u001b[38;5;28;01mFalse\u001b[39;00m):\n\u001b[1;32m     41\u001b[0m     x \u001b[38;5;241m=\u001b[39m x\u001b[38;5;241m.\u001b[39mto(device)\n\u001b[1;32m     42\u001b[0m     y \u001b[38;5;241m=\u001b[39m y\u001b[38;5;241m.\u001b[39mtype(torch\u001b[38;5;241m.\u001b[39mLongTensor)\n",
      "File \u001b[0;32m~/Codes/maxentropy/venv/lib/python3.8/site-packages/tqdm/std.py:1195\u001b[0m, in \u001b[0;36mtqdm.__iter__\u001b[0;34m(self)\u001b[0m\n\u001b[1;32m   1192\u001b[0m time \u001b[38;5;241m=\u001b[39m \u001b[38;5;28mself\u001b[39m\u001b[38;5;241m.\u001b[39m_time\n\u001b[1;32m   1194\u001b[0m \u001b[38;5;28;01mtry\u001b[39;00m:\n\u001b[0;32m-> 1195\u001b[0m     \u001b[38;5;28;01mfor\u001b[39;00m obj \u001b[38;5;129;01min\u001b[39;00m iterable:\n\u001b[1;32m   1196\u001b[0m         \u001b[38;5;28;01myield\u001b[39;00m obj\n\u001b[1;32m   1197\u001b[0m         \u001b[38;5;66;03m# Update and possibly print the progressbar.\u001b[39;00m\n\u001b[1;32m   1198\u001b[0m         \u001b[38;5;66;03m# Note: does not call self.update(1) for speed optimisation.\u001b[39;00m\n",
      "File \u001b[0;32m~/Codes/maxentropy/venv/lib/python3.8/site-packages/torch/utils/data/dataloader.py:652\u001b[0m, in \u001b[0;36m_BaseDataLoaderIter.__next__\u001b[0;34m(self)\u001b[0m\n\u001b[1;32m    649\u001b[0m \u001b[38;5;28;01mif\u001b[39;00m \u001b[38;5;28mself\u001b[39m\u001b[38;5;241m.\u001b[39m_sampler_iter \u001b[38;5;129;01mis\u001b[39;00m \u001b[38;5;28;01mNone\u001b[39;00m:\n\u001b[1;32m    650\u001b[0m     \u001b[38;5;66;03m# TODO(https://github.com/pytorch/pytorch/issues/76750)\u001b[39;00m\n\u001b[1;32m    651\u001b[0m     \u001b[38;5;28mself\u001b[39m\u001b[38;5;241m.\u001b[39m_reset()  \u001b[38;5;66;03m# type: ignore[call-arg]\u001b[39;00m\n\u001b[0;32m--> 652\u001b[0m data \u001b[38;5;241m=\u001b[39m \u001b[38;5;28;43mself\u001b[39;49m\u001b[38;5;241;43m.\u001b[39;49m\u001b[43m_next_data\u001b[49m\u001b[43m(\u001b[49m\u001b[43m)\u001b[49m\n\u001b[1;32m    653\u001b[0m \u001b[38;5;28mself\u001b[39m\u001b[38;5;241m.\u001b[39m_num_yielded \u001b[38;5;241m+\u001b[39m\u001b[38;5;241m=\u001b[39m \u001b[38;5;241m1\u001b[39m\n\u001b[1;32m    654\u001b[0m \u001b[38;5;28;01mif\u001b[39;00m \u001b[38;5;28mself\u001b[39m\u001b[38;5;241m.\u001b[39m_dataset_kind \u001b[38;5;241m==\u001b[39m _DatasetKind\u001b[38;5;241m.\u001b[39mIterable \u001b[38;5;129;01mand\u001b[39;00m \\\n\u001b[1;32m    655\u001b[0m         \u001b[38;5;28mself\u001b[39m\u001b[38;5;241m.\u001b[39m_IterableDataset_len_called \u001b[38;5;129;01mis\u001b[39;00m \u001b[38;5;129;01mnot\u001b[39;00m \u001b[38;5;28;01mNone\u001b[39;00m \u001b[38;5;129;01mand\u001b[39;00m \\\n\u001b[1;32m    656\u001b[0m         \u001b[38;5;28mself\u001b[39m\u001b[38;5;241m.\u001b[39m_num_yielded \u001b[38;5;241m>\u001b[39m \u001b[38;5;28mself\u001b[39m\u001b[38;5;241m.\u001b[39m_IterableDataset_len_called:\n",
      "File \u001b[0;32m~/Codes/maxentropy/venv/lib/python3.8/site-packages/torch/utils/data/dataloader.py:692\u001b[0m, in \u001b[0;36m_SingleProcessDataLoaderIter._next_data\u001b[0;34m(self)\u001b[0m\n\u001b[1;32m    690\u001b[0m \u001b[38;5;28;01mdef\u001b[39;00m \u001b[38;5;21m_next_data\u001b[39m(\u001b[38;5;28mself\u001b[39m):\n\u001b[1;32m    691\u001b[0m     index \u001b[38;5;241m=\u001b[39m \u001b[38;5;28mself\u001b[39m\u001b[38;5;241m.\u001b[39m_next_index()  \u001b[38;5;66;03m# may raise StopIteration\u001b[39;00m\n\u001b[0;32m--> 692\u001b[0m     data \u001b[38;5;241m=\u001b[39m \u001b[38;5;28;43mself\u001b[39;49m\u001b[38;5;241;43m.\u001b[39;49m\u001b[43m_dataset_fetcher\u001b[49m\u001b[38;5;241;43m.\u001b[39;49m\u001b[43mfetch\u001b[49m\u001b[43m(\u001b[49m\u001b[43mindex\u001b[49m\u001b[43m)\u001b[49m  \u001b[38;5;66;03m# may raise StopIteration\u001b[39;00m\n\u001b[1;32m    693\u001b[0m     \u001b[38;5;28;01mif\u001b[39;00m \u001b[38;5;28mself\u001b[39m\u001b[38;5;241m.\u001b[39m_pin_memory:\n\u001b[1;32m    694\u001b[0m         data \u001b[38;5;241m=\u001b[39m _utils\u001b[38;5;241m.\u001b[39mpin_memory\u001b[38;5;241m.\u001b[39mpin_memory(data, \u001b[38;5;28mself\u001b[39m\u001b[38;5;241m.\u001b[39m_pin_memory_device)\n",
      "File \u001b[0;32m~/Codes/maxentropy/venv/lib/python3.8/site-packages/torch/utils/data/_utils/fetch.py:52\u001b[0m, in \u001b[0;36m_MapDatasetFetcher.fetch\u001b[0;34m(self, possibly_batched_index)\u001b[0m\n\u001b[1;32m     50\u001b[0m \u001b[38;5;28;01melse\u001b[39;00m:\n\u001b[1;32m     51\u001b[0m     data \u001b[38;5;241m=\u001b[39m \u001b[38;5;28mself\u001b[39m\u001b[38;5;241m.\u001b[39mdataset[possibly_batched_index]\n\u001b[0;32m---> 52\u001b[0m \u001b[38;5;28;01mreturn\u001b[39;00m \u001b[38;5;28;43mself\u001b[39;49m\u001b[38;5;241;43m.\u001b[39;49m\u001b[43mcollate_fn\u001b[49m\u001b[43m(\u001b[49m\u001b[43mdata\u001b[49m\u001b[43m)\u001b[49m\n",
      "File \u001b[0;32m~/Codes/maxentropy/venv/lib/python3.8/site-packages/torch/utils/data/_utils/collate.py:175\u001b[0m, in \u001b[0;36mdefault_collate\u001b[0;34m(batch)\u001b[0m\n\u001b[1;32m    172\u001b[0m transposed \u001b[38;5;241m=\u001b[39m \u001b[38;5;28mlist\u001b[39m(\u001b[38;5;28mzip\u001b[39m(\u001b[38;5;241m*\u001b[39mbatch))  \u001b[38;5;66;03m# It may be accessed twice, so we use a list.\u001b[39;00m\n\u001b[1;32m    174\u001b[0m \u001b[38;5;28;01mif\u001b[39;00m \u001b[38;5;28misinstance\u001b[39m(elem, \u001b[38;5;28mtuple\u001b[39m):\n\u001b[0;32m--> 175\u001b[0m     \u001b[38;5;28;01mreturn\u001b[39;00m [default_collate(samples) \u001b[38;5;28;01mfor\u001b[39;00m samples \u001b[38;5;129;01min\u001b[39;00m transposed]  \u001b[38;5;66;03m# Backwards compatibility.\u001b[39;00m\n\u001b[1;32m    176\u001b[0m \u001b[38;5;28;01melse\u001b[39;00m:\n\u001b[1;32m    177\u001b[0m     \u001b[38;5;28;01mtry\u001b[39;00m:\n",
      "File \u001b[0;32m~/Codes/maxentropy/venv/lib/python3.8/site-packages/torch/utils/data/_utils/collate.py:175\u001b[0m, in \u001b[0;36m<listcomp>\u001b[0;34m(.0)\u001b[0m\n\u001b[1;32m    172\u001b[0m transposed \u001b[38;5;241m=\u001b[39m \u001b[38;5;28mlist\u001b[39m(\u001b[38;5;28mzip\u001b[39m(\u001b[38;5;241m*\u001b[39mbatch))  \u001b[38;5;66;03m# It may be accessed twice, so we use a list.\u001b[39;00m\n\u001b[1;32m    174\u001b[0m \u001b[38;5;28;01mif\u001b[39;00m \u001b[38;5;28misinstance\u001b[39m(elem, \u001b[38;5;28mtuple\u001b[39m):\n\u001b[0;32m--> 175\u001b[0m     \u001b[38;5;28;01mreturn\u001b[39;00m [\u001b[43mdefault_collate\u001b[49m\u001b[43m(\u001b[49m\u001b[43msamples\u001b[49m\u001b[43m)\u001b[49m \u001b[38;5;28;01mfor\u001b[39;00m samples \u001b[38;5;129;01min\u001b[39;00m transposed]  \u001b[38;5;66;03m# Backwards compatibility.\u001b[39;00m\n\u001b[1;32m    176\u001b[0m \u001b[38;5;28;01melse\u001b[39;00m:\n\u001b[1;32m    177\u001b[0m     \u001b[38;5;28;01mtry\u001b[39;00m:\n",
      "File \u001b[0;32m~/Codes/maxentropy/venv/lib/python3.8/site-packages/torch/utils/data/_utils/collate.py:149\u001b[0m, in \u001b[0;36mdefault_collate\u001b[0;34m(batch)\u001b[0m\n\u001b[1;32m    146\u001b[0m     \u001b[38;5;28;01mif\u001b[39;00m np_str_obj_array_pattern\u001b[38;5;241m.\u001b[39msearch(elem\u001b[38;5;241m.\u001b[39mdtype\u001b[38;5;241m.\u001b[39mstr) \u001b[38;5;129;01mis\u001b[39;00m \u001b[38;5;129;01mnot\u001b[39;00m \u001b[38;5;28;01mNone\u001b[39;00m:\n\u001b[1;32m    147\u001b[0m         \u001b[38;5;28;01mraise\u001b[39;00m \u001b[38;5;167;01mTypeError\u001b[39;00m(default_collate_err_msg_format\u001b[38;5;241m.\u001b[39mformat(elem\u001b[38;5;241m.\u001b[39mdtype))\n\u001b[0;32m--> 149\u001b[0m     \u001b[38;5;28;01mreturn\u001b[39;00m \u001b[43mdefault_collate\u001b[49m\u001b[43m(\u001b[49m\u001b[43m[\u001b[49m\u001b[43mtorch\u001b[49m\u001b[38;5;241;43m.\u001b[39;49m\u001b[43mas_tensor\u001b[49m\u001b[43m(\u001b[49m\u001b[43mb\u001b[49m\u001b[43m)\u001b[49m\u001b[43m \u001b[49m\u001b[38;5;28;43;01mfor\u001b[39;49;00m\u001b[43m \u001b[49m\u001b[43mb\u001b[49m\u001b[43m \u001b[49m\u001b[38;5;129;43;01min\u001b[39;49;00m\u001b[43m \u001b[49m\u001b[43mbatch\u001b[49m\u001b[43m]\u001b[49m\u001b[43m)\u001b[49m\n\u001b[1;32m    150\u001b[0m \u001b[38;5;28;01melif\u001b[39;00m elem\u001b[38;5;241m.\u001b[39mshape \u001b[38;5;241m==\u001b[39m ():  \u001b[38;5;66;03m# scalars\u001b[39;00m\n\u001b[1;32m    151\u001b[0m     \u001b[38;5;28;01mreturn\u001b[39;00m torch\u001b[38;5;241m.\u001b[39mas_tensor(batch)\n",
      "File \u001b[0;32m~/Codes/maxentropy/venv/lib/python3.8/site-packages/torch/utils/data/_utils/collate.py:141\u001b[0m, in \u001b[0;36mdefault_collate\u001b[0;34m(batch)\u001b[0m\n\u001b[1;32m    139\u001b[0m         storage \u001b[38;5;241m=\u001b[39m elem\u001b[38;5;241m.\u001b[39mstorage()\u001b[38;5;241m.\u001b[39m_new_shared(numel, device\u001b[38;5;241m=\u001b[39melem\u001b[38;5;241m.\u001b[39mdevice)\n\u001b[1;32m    140\u001b[0m         out \u001b[38;5;241m=\u001b[39m elem\u001b[38;5;241m.\u001b[39mnew(storage)\u001b[38;5;241m.\u001b[39mresize_(\u001b[38;5;28mlen\u001b[39m(batch), \u001b[38;5;241m*\u001b[39m\u001b[38;5;28mlist\u001b[39m(elem\u001b[38;5;241m.\u001b[39msize()))\n\u001b[0;32m--> 141\u001b[0m     \u001b[38;5;28;01mreturn\u001b[39;00m \u001b[43mtorch\u001b[49m\u001b[38;5;241;43m.\u001b[39;49m\u001b[43mstack\u001b[49m\u001b[43m(\u001b[49m\u001b[43mbatch\u001b[49m\u001b[43m,\u001b[49m\u001b[43m \u001b[49m\u001b[38;5;241;43m0\u001b[39;49m\u001b[43m,\u001b[49m\u001b[43m \u001b[49m\u001b[43mout\u001b[49m\u001b[38;5;241;43m=\u001b[39;49m\u001b[43mout\u001b[49m\u001b[43m)\u001b[49m\n\u001b[1;32m    142\u001b[0m \u001b[38;5;28;01melif\u001b[39;00m elem_type\u001b[38;5;241m.\u001b[39m\u001b[38;5;18m__module__\u001b[39m \u001b[38;5;241m==\u001b[39m \u001b[38;5;124m'\u001b[39m\u001b[38;5;124mnumpy\u001b[39m\u001b[38;5;124m'\u001b[39m \u001b[38;5;129;01mand\u001b[39;00m elem_type\u001b[38;5;241m.\u001b[39m\u001b[38;5;18m__name__\u001b[39m \u001b[38;5;241m!=\u001b[39m \u001b[38;5;124m'\u001b[39m\u001b[38;5;124mstr_\u001b[39m\u001b[38;5;124m'\u001b[39m \\\n\u001b[1;32m    143\u001b[0m         \u001b[38;5;129;01mand\u001b[39;00m elem_type\u001b[38;5;241m.\u001b[39m\u001b[38;5;18m__name__\u001b[39m \u001b[38;5;241m!=\u001b[39m \u001b[38;5;124m'\u001b[39m\u001b[38;5;124mstring_\u001b[39m\u001b[38;5;124m'\u001b[39m:\n\u001b[1;32m    144\u001b[0m     \u001b[38;5;28;01mif\u001b[39;00m elem_type\u001b[38;5;241m.\u001b[39m\u001b[38;5;18m__name__\u001b[39m \u001b[38;5;241m==\u001b[39m \u001b[38;5;124m'\u001b[39m\u001b[38;5;124mndarray\u001b[39m\u001b[38;5;124m'\u001b[39m \u001b[38;5;129;01mor\u001b[39;00m elem_type\u001b[38;5;241m.\u001b[39m\u001b[38;5;18m__name__\u001b[39m \u001b[38;5;241m==\u001b[39m \u001b[38;5;124m'\u001b[39m\u001b[38;5;124mmemmap\u001b[39m\u001b[38;5;124m'\u001b[39m:\n\u001b[1;32m    145\u001b[0m         \u001b[38;5;66;03m# array of string classes and object\u001b[39;00m\n",
      "\u001b[0;31mKeyboardInterrupt\u001b[0m: "
     ]
    }
   ],
   "source": [
    "EPOCHS = 1000\n",
    "\n",
    "WIDTH = 1000\n",
    "LAYERS = 5\n",
    "\n",
    "HEADS = 20\n",
    "ATT = HEADS * 20\n",
    "assert(ATT % HEADS == 0)\n",
    "\n",
    "RES = .0\n",
    "BATCH_SIZE = 2**7\n",
    "ACTIVATION = 'relu,tanh'\n",
    "NORM = 'BN2'\n",
    "device = torch.device('cuda' if torch.cuda.is_available() else 'cpu')\n",
    "# device = 'cpu'\n",
    "\n",
    "df = pd.DataFrame(columns=['epoch','bath_size','width','layers','normalization','activation','train_acc','val_acc','train_loss','val_loss',])\n",
    "\n",
    "\n",
    "train_iterator = data.DataLoader(train_data,batch_size=BATCH_SIZE)\n",
    "test_iterator = data.DataLoader(test_data,batch_size=BATCH_SIZE)\n",
    "\n",
    "criterion = nn.CrossEntropyLoss().to(device)\n",
    "model = MyMLP(L=LAYERS,D=WIDTH,res=RES,activ=ACTIVATION, norm=NORM, D_in=D_IN, D_out=num_classes, A = ATT, H=HEADS,device=device)\n",
    "model = model.to(device)\n",
    "\n",
    "\n",
    "best_valid_loss = float('inf')\n",
    "optimizer = optim.Adam(model.parameters()) # optim.SGD(model.parameters(),lr=1e-3)\n",
    "\n",
    "\n",
    "for epoch in range(EPOCHS):\n",
    "    train_loss, train_acc = train(model, train_iterator, optimizer, criterion, device)\n",
    "    valid_loss, valid_acc, freq = evaluate(model, test_iterator, criterion, device)\n",
    "    df.loc[len(df),:] = (epoch, BATCH_SIZE,WIDTH,LAYERS, NORM,ACTIVATION,train_acc, valid_acc, train_loss, valid_loss)\n",
    "    if epoch==0:\n",
    "        continue\n",
    "\n",
    "    if valid_loss < best_valid_loss:\n",
    "        best_valid_loss = valid_loss\n",
    "        torch.save(model.state_dict(), 'tut1-model.pt')\n",
    "\n",
    "    print(f'Epoch: {epoch+1}\\tTrain Loss: {train_loss:.5f}\\tTrain Acc: {train_acc}\\tVal. Loss: {valid_loss:.5f}\\t Val. Acc: {valid_acc:.5f}')"
   ]
  },
  {
   "cell_type": "code",
   "execution_count": 42,
   "id": "b2f6e444",
   "metadata": {},
   "outputs": [
    {
     "name": "stdout",
     "output_type": "stream",
     "text": [
      "Calculated mean: 0.13066047430038452\n",
      "Calculated std: 0.30810779333114624\n",
      "Number of training examples: 60000\n",
      "Number of testing examples: 10000\n"
     ]
    },
    {
     "data": {
      "image/png": "[encoded data removed]",
      "text/plain": [
       "<Figure size 432x288 with 25 Axes>"
      ]
     },
     "metadata": {
      "needs_background": "light"
     },
     "output_type": "display_data"
    }
   ],
   "source": [
    "ROOT = '.data'\n",
    "train_data = datasets.MNIST(root=ROOT,\n",
    "                            train=True,\n",
    "                            download=True)\n",
    "\n",
    "mean = train_data.data.float().mean() / 255\n",
    "std = train_data.data.float().std() / 255\n",
    "print(f'Calculated mean: {mean}')\n",
    "print(f'Calculated std: {std}')\n",
    "\n",
    "train_transforms = transforms.Compose([\n",
    "                            transforms.RandomRotation(5, fill=(0,)),\n",
    "                            transforms.RandomCrop(28, padding=2),\n",
    "                            transforms.ToTensor(),\n",
    "                            transforms.Normalize(mean=[mean], std=[std])\n",
    "                                      ])\n",
    "\n",
    "test_transforms = transforms.Compose([\n",
    "                           transforms.ToTensor(),\n",
    "                           transforms.Normalize(mean=[mean], std=[std])\n",
    "                                     ])\n",
    "\n",
    "train_data = datasets.MNIST(root=ROOT,\n",
    "                            train=True,\n",
    "                            download=True,\n",
    "                            transform=train_transforms)\n",
    "\n",
    "test_data = datasets.MNIST(root=ROOT,\n",
    "                           train=False,\n",
    "                           download=True,\n",
    "                           transform=test_transforms)\n",
    "\n",
    "Classes = list(range(10))\n",
    "# Classes = [0,1]\n",
    "train_data = [(x,y) for x,y in train_data if y in Classes]\n",
    "test_data = [(x,y) for x,y in test_data if y in Classes]\n",
    "\n",
    "print(f'Number of training examples: {len(train_data)}')\n",
    "print(f'Number of testing examples: {len(test_data)}')\n",
    "\n",
    "N_IMAGES = 25\n",
    "\n",
    "images = [image for image, label in [test_data[i] for i in range(N_IMAGES)]]\n",
    "\n",
    "D_IN = 28*28\n",
    "\n",
    "plot_images(images)"
   ]
  },
  {
   "cell_type": "code",
   "execution_count": 14,
   "id": "842d7e60-7768-4cfd-a803-22d7407dbce6",
   "metadata": {},
   "outputs": [
    {
     "name": "stdout",
     "output_type": "stream",
     "text": [
      "Files already downloaded and verified\n",
      "Files already downloaded and verified\n"
     ]
    }
   ],
   "source": [
    "import torchvision\n",
    "trainset = torchvision.datasets.CIFAR100(root='.data',train=True,download=True)\n",
    "testset = torchvision.datasets.CIFAR100(root='.data',train=False,download=True)\n",
    "\n",
    "train_data = [(np.array(x,np.float32),np.float32(y)) for x,y in trainset]\n",
    "test_data = [(np.array(x,np.float32),np.float32(y)) for x,y in testset]\n",
    "\n",
    "num_classes = 100\n",
    "\n",
    "D_IN = 32*32*3"
   ]
  },
  {
   "cell_type": "code",
   "execution_count": 22,
   "id": "796ac1dd-86bd-4dbc-acc1-ab847615ddf4",
   "metadata": {},
   "outputs": [
    {
     "name": "stdout",
     "output_type": "stream",
     "text": [
      "Files already downloaded and verified\n",
      "Files already downloaded and verified\n"
     ]
    }
   ],
   "source": [
    "import torchvision\n",
    "trainset = torchvision.datasets.CIFAR10(root='.data',train=True,download=True)\n",
    "testset = torchvision.datasets.CIFAR10(root='.data',train=False,download=True)\n",
    "\n",
    "train_data = [(np.array(x,np.float32),np.float32(y)) for x,y in trainset]\n",
    "test_data = [(np.array(x,np.float32),np.float32(y)) for x,y in testset]\n",
    "\n",
    "num_classes = 10\n",
    "\n",
    "D_IN = 32*32*3"
   ]
  },
  {
   "cell_type": "code",
   "execution_count": 23,
   "id": "5af930a7-fa14-443c-93ff-4e8bd752ec77",
   "metadata": {},
   "outputs": [],
   "source": [
    "X = train_data[0][0]\n",
    "N = len(X.flatten())\n",
    "Ind = np.array(np.unravel_index(range(N),shape=X.shape))\n",
    "def get_X2(X):\n",
    "    X2 = np.zeros((4,N))\n",
    "    X2[:3,:] = Ind\n",
    "    X2[3,:] = X.flatten()\n",
    "    return np.array(X2.flatten(),np.float32)\n",
    "train_data = [(get_X2(x),y) for x,y in train_data]\n",
    "test_data = [(get_X2(x),y) for x,y in test_data]\n",
    "\n",
    "D_IN = len(train_data[0][0].flatten())"
   ]
  },
  {
   "cell_type": "code",
   "execution_count": null,
   "id": "9743def4-74df-47c6-bd3e-7a91a580ceee",
   "metadata": {},
   "outputs": [],
   "source": []
  }
 ],
 "metadata": {
  "kernelspec": {
   "display_name": "Python 3 (ipykernel)",
   "language": "python",
   "name": "python3"
  },
  "language_info": {
   "codemirror_mode": {
    "name": "ipython",
    "version": 3
   },
   "file_extension": ".py",
   "mimetype": "text/x-python",
   "name": "python",
   "nbconvert_exporter": "python",
   "pygments_lexer": "ipython3",
   "version": "3.8.5"
  }
 },
 "nbformat": 4,
 "nbformat_minor": 5
}
